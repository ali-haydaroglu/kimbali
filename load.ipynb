{
 "cells": [
  {
   "cell_type": "code",
   "execution_count": 2,
   "metadata": {},
   "outputs": [],
   "source": [
    "import sys"
   ]
  },
  {
   "cell_type": "code",
   "execution_count": 20,
   "metadata": {},
   "outputs": [],
   "source": [
    "%load_ext autoreload\n",
    "\n",
    "%autoreload 2"
   ]
  },
  {
   "cell_type": "code",
   "execution_count": 11,
   "metadata": {},
   "outputs": [],
   "source": [
    "import matplotlib\n",
    "import numpy as np\n",
    "import matplotlib.pyplot as plt\n",
    "import pandas as pd"
   ]
  },
  {
   "cell_type": "code",
   "execution_count": 12,
   "metadata": {},
   "outputs": [],
   "source": [
    "import data"
   ]
  },
  {
   "cell_type": "code",
   "execution_count": 88,
   "metadata": {},
   "outputs": [],
   "source": [
    "claims_df = pd.read_csv('C:/Users/Ali/Documents/CIBC/claims_final.csv', header=None, names=['family_id','member_id', 'provider_id', 'provider_type', 'state', 'date', 'procedure', 'amount'])"
   ]
  },
  {
   "cell_type": "code",
   "execution_count": 89,
   "metadata": {},
   "outputs": [],
   "source": [
    "claims = claims_df.to_records(index=False)"
   ]
  },
  {
   "cell_type": "code",
   "execution_count": 90,
   "metadata": {},
   "outputs": [],
   "source": [
    "provider_types = np.unique(claims['provider_type'])"
   ]
  },
  {
   "cell_type": "code",
   "execution_count": 91,
   "metadata": {},
   "outputs": [],
   "source": [
    "claims_pt0 = data.subset_query(claims, lambda item: item['provider_type'] == provider_types[0])"
   ]
  },
  {
   "cell_type": "markdown",
   "metadata": {},
   "source": [
    "## Provider Type 0: Feature Extraction\n",
    "\n",
    "Raw features:\n",
    "* `overcharge`: difference between total amount and the total amount an average provider would have charged for same procedures (5)\n",
    "* `visits_per_patient`: number of visits per patient (avg, std) (4)\n",
    "* `n_cases`: number of cases (1)\n",
    "* `fees_per_patient`: fees per patient (avg, std) (3)\n",
    "* `total_fees`: total fees"
   ]
  },
  {
   "cell_type": "code",
   "execution_count": 298,
   "metadata": {},
   "outputs": [],
   "source": [
    "import sklearn\n",
    "from sklearn.cluster import KMeans\n",
    "from sklearn import datasets"
   ]
  },
  {
   "cell_type": "code",
   "execution_count": 188,
   "metadata": {},
   "outputs": [],
   "source": [
    "import features"
   ]
  },
  {
   "cell_type": "code",
   "execution_count": 189,
   "metadata": {},
   "outputs": [],
   "source": [
    "list_features = ['overcharge', 'visits_per_patient_avg', 'visits_per_patient_std', 'n_cases', 'fees_per_patient_avg','fees_per_patient_std', 'total_fees']"
   ]
  },
  {
   "cell_type": "code",
   "execution_count": 276,
   "metadata": {},
   "outputs": [],
   "source": [
    "n_cases = len(claims_pt0)\n",
    "n_features = len(list_features)"
   ]
  },
  {
   "cell_type": "code",
   "execution_count": 277,
   "metadata": {},
   "outputs": [],
   "source": [
    "subset_claims = np.random.choice(claims_pt0, size=n_cases)"
   ]
  },
  {
   "cell_type": "code",
   "execution_count": 281,
   "metadata": {},
   "outputs": [],
   "source": [
    "oc, fees = features.compute_overcharge_and_fees(subset_claims)\n",
    "n_cases = features.compute_cases(subset_claims)\n",
    "fee_pp_mean, fee_pp_std, visit_pp_mean, visit_pp_std = features.compute_per_patient_stats(subset_claims)"
   ]
  },
  {
   "cell_type": "code",
   "execution_count": 282,
   "metadata": {},
   "outputs": [],
   "source": [
    "fs = [oc, fees, n_cases, fee_pp_mean, fee_pp_std, visit_pp_mean, visit_pp_std]"
   ]
  },
  {
   "cell_type": "code",
   "execution_count": 283,
   "metadata": {},
   "outputs": [],
   "source": []
  },
  {
   "cell_type": "code",
   "execution_count": 338,
   "metadata": {},
   "outputs": [
    {
     "data": {
      "text/plain": [
       "(8066, 7)"
      ]
     },
     "execution_count": 338,
     "metadata": {},
     "output_type": "execute_result"
    }
   ],
   "source": [
    "X_unscaled.shape"
   ]
  },
  {
   "cell_type": "code",
   "execution_count": 299,
   "metadata": {},
   "outputs": [],
   "source": [
    "X_unscaled = np.stack([list(f.values()) for f in fs],axis=1)"
   ]
  },
  {
   "cell_type": "code",
   "execution_count": 300,
   "metadata": {},
   "outputs": [],
   "source": [
    "X = sklearn.preprocessing.scale(X_unscaled)"
   ]
  },
  {
   "cell_type": "code",
   "execution_count": 303,
   "metadata": {},
   "outputs": [],
   "source": [
    "clf = sklearn.neighbors.LocalOutlierFactor(n_neighbors=20)\n",
    "y_pred = clf.fit_predict(X)"
   ]
  },
  {
   "cell_type": "code",
   "execution_count": 326,
   "metadata": {},
   "outputs": [],
   "source": [
    "\n",
    "lin = np.linspace(-5, 5, 3)\n",
    "\n",
    "coords = np.meshgrid(lin, lin, lin, lin, lin, lin, lin)\n"
   ]
  },
  {
   "cell_type": "code",
   "execution_count": 321,
   "metadata": {},
   "outputs": [
    {
     "data": {
      "text/plain": [
       "array([-5., -5., -5., ...,  5.,  5.,  5.])"
      ]
     },
     "execution_count": 321,
     "metadata": {},
     "output_type": "execute_result"
    }
   ],
   "source": [
    "coords[0].ravel()"
   ]
  },
  {
   "cell_type": "code",
   "execution_count": 333,
   "metadata": {},
   "outputs": [],
   "source": [
    "xx, yy, zz = np.meshgrid(lin,lin, lin)"
   ]
  },
  {
   "cell_type": "code",
   "execution_count": 337,
   "metadata": {},
   "outputs": [
    {
     "data": {
      "text/plain": [
       "array([[-5., -5.,  0.],\n",
       "       [-5., -5.,  0.],\n",
       "       [-5., -5.,  0.],\n",
       "       [ 0., -5.,  0.],\n",
       "       [ 0., -5.,  0.],\n",
       "       [ 0., -5.,  0.],\n",
       "       [ 5., -5.,  0.],\n",
       "       [ 5., -5.,  0.],\n",
       "       [ 5., -5.,  0.],\n",
       "       [-5.,  0.,  0.],\n",
       "       [-5.,  0.,  0.],\n",
       "       [-5.,  0.,  0.],\n",
       "       [ 0.,  0.,  0.],\n",
       "       [ 0.,  0.,  0.],\n",
       "       [ 0.,  0.,  0.],\n",
       "       [ 5.,  0.,  0.],\n",
       "       [ 5.,  0.,  0.],\n",
       "       [ 5.,  0.,  0.],\n",
       "       [-5.,  5.,  0.],\n",
       "       [-5.,  5.,  0.],\n",
       "       [-5.,  5.,  0.],\n",
       "       [ 0.,  5.,  0.],\n",
       "       [ 0.,  5.,  0.],\n",
       "       [ 0.,  5.,  0.],\n",
       "       [ 5.,  5.,  0.],\n",
       "       [ 5.,  5.,  0.],\n",
       "       [ 5.,  5.,  0.]])"
      ]
     },
     "execution_count": 337,
     "metadata": {},
     "output_type": "execute_result"
    }
   ],
   "source": [
    "np.c_[xx.ravel(),yy.ravel(), np.zeros(xx.shape).ravel()]"
   ]
  },
  {
   "cell_type": "code",
   "execution_count": 331,
   "metadata": {},
   "outputs": [
    {
     "data": {
      "text/plain": [
       "array([[-5.,  0.,  5.],\n",
       "       [-5.,  0.,  5.],\n",
       "       [-5.,  0.,  5.]])"
      ]
     },
     "execution_count": 331,
     "metadata": {},
     "output_type": "execute_result"
    }
   ],
   "source": [
    "xx"
   ]
  },
  {
   "cell_type": "code",
   "execution_count": 330,
   "metadata": {},
   "outputs": [
    {
     "data": {
      "text/plain": [
       "array([[-5., -5., -5.],\n",
       "       [ 0.,  0.,  0.],\n",
       "       [ 5.,  5.,  5.]])"
      ]
     },
     "execution_count": 330,
     "metadata": {},
     "output_type": "execute_result"
    }
   ],
   "source": [
    "yy"
   ]
  },
  {
   "cell_type": "code",
   "execution_count": 322,
   "metadata": {},
   "outputs": [
    {
     "ename": "SyntaxError",
     "evalue": "invalid syntax (<ipython-input-322-0d33f8cddcd8>, line 4)",
     "output_type": "error",
     "traceback": [
      "\u001b[1;36m  File \u001b[1;32m\"<ipython-input-322-0d33f8cddcd8>\"\u001b[1;36m, line \u001b[1;32m4\u001b[0m\n\u001b[1;33m    Z = clf._decision_function(np.c_[xx.ravel() for xx in coords])\u001b[0m\n\u001b[1;37m                                                  ^\u001b[0m\n\u001b[1;31mSyntaxError\u001b[0m\u001b[1;31m:\u001b[0m invalid syntax\n"
     ]
    }
   ],
   "source": [
    "lin = np.linspace(-5, 5, 10)\n",
    "z = np.zeros(10)\n",
    "xx,yy = np.meshgrid(lin, lin)\n",
    "Z = clf._decision_function(np.c_[xx.ravel(), yy.ravel(), ])\n",
    "Z = Z.reshape(xx.shape)\n",
    "\n",
    "plt.title(\"Local Outlier Factor (LOF)\")\n",
    "plt.contourf(xx, yy, Z, cmap=plt.cm.Blues_r)\n",
    "\n",
    "a = plt.scatter(X[:200, 0], X[:200, 1], c='white',\n",
    "                edgecolor='k', s=20)\n",
    "b = plt.scatter(X[200:, 0], X[200:, 1], c='red',\n",
    "                edgecolor='k', s=20)\n",
    "plt.axis('tight')\n",
    "plt.xlim((-5, 5))\n",
    "plt.ylim((-5, 5))\n",
    "plt.legend([a, b],\n",
    "           [\"normal observations\",\n",
    "            \"abnormal observations\"],\n",
    "           loc=\"upper left\")\n",
    "plt.show()"
   ]
  },
  {
   "cell_type": "code",
   "execution_count": null,
   "metadata": {},
   "outputs": [],
   "source": []
  },
  {
   "cell_type": "code",
   "execution_count": null,
   "metadata": {},
   "outputs": [],
   "source": []
  },
  {
   "cell_type": "code",
   "execution_count": null,
   "metadata": {},
   "outputs": [],
   "source": []
  },
  {
   "cell_type": "code",
   "execution_count": null,
   "metadata": {},
   "outputs": [],
   "source": []
  },
  {
   "cell_type": "code",
   "execution_count": null,
   "metadata": {},
   "outputs": [],
   "source": []
  },
  {
   "cell_type": "code",
   "execution_count": 266,
   "metadata": {},
   "outputs": [
    {
     "data": {
      "image/png": "[encoded data removed]",
      "text/plain": [
       "<Figure size 864x2592 with 7 Axes>"
      ]
     },
     "metadata": {},
     "output_type": "display_data"
    }
   ],
   "source": [
    "fig, ax = plt.subplots(nrows=7, ncols=1, figsize=(12,36))\n",
    "ax[0].set_title('Percent overcharge')\n",
    "ax[0].hist(oc.values(), bins=200);\n",
    "ax[1].set_title('Total fees collected')\n",
    "ax[1].hist(fees.values(),bins=200);\n",
    "ax[2].set_title('Number of cases per provider')\n",
    "ax[2].hist(n_cases.values(),bins=200);\n",
    "ax[3].set_title('Average fees per patient')\n",
    "ax[3].hist(fee_pp_mean.values(),bins=200);\n",
    "ax[4].set_title('Std of fees per patient')\n",
    "ax[4].hist(fee_pp_std.values(),bins=200);\n",
    "ax[5].set_title('Average number of visits per patient')\n",
    "ax[5].hist(visit_pp_mean.values(),bins=200);\n",
    "ax[6].set_title('Standard deviation of visits per patient')\n",
    "ax[6].hist(visit_pp_std.values(),bins=200);"
   ]
  },
  {
   "cell_type": "code",
   "execution_count": null,
   "metadata": {},
   "outputs": [],
   "source": []
  },
  {
   "cell_type": "code",
   "execution_count": null,
   "metadata": {},
   "outputs": [],
   "source": []
  },
  {
   "cell_type": "code",
   "execution_count": null,
   "metadata": {},
   "outputs": [],
   "source": []
  },
  {
   "cell_type": "code",
   "execution_count": null,
   "metadata": {},
   "outputs": [],
   "source": []
  },
  {
   "cell_type": "code",
   "execution_count": null,
   "metadata": {},
   "outputs": [],
   "source": []
  },
  {
   "cell_type": "code",
   "execution_count": null,
   "metadata": {},
   "outputs": [],
   "source": []
  }
 ],
 "metadata": {
  "kernelspec": {
   "display_name": "Python 3",
   "language": "python",
   "name": "python3"
  },
  "language_info": {
   "codemirror_mode": {
    "name": "ipython",
    "version": 3
   },
   "file_extension": ".py",
   "mimetype": "text/x-python",
   "name": "python",
   "nbconvert_exporter": "python",
   "pygments_lexer": "ipython3",
   "version": "3.6.5"
  }
 },
 "nbformat": 4,
 "nbformat_minor": 2
}
