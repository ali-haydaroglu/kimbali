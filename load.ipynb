{
 "cells": [
  {
   "cell_type": "code",
   "execution_count": 1,
   "metadata": {},
   "outputs": [],
   "source": [
    "import sys"
   ]
  },
  {
   "cell_type": "code",
   "execution_count": 3,
   "metadata": {},
   "outputs": [],
   "source": [
    "import matplotlib\n",
    "import numpy as np\n",
    "import matplotlib.pyplot as plt\n",
    "import pandas as pd"
   ]
  },
  {
   "cell_type": "code",
   "execution_count": 4,
   "metadata": {},
   "outputs": [],
   "source": [
    "import data"
   ]
  },
  {
   "cell_type": "code",
   "execution_count": 6,
   "metadata": {},
   "outputs": [],
   "source": [
    "claims_df = pd.read_csv('C:/Users/Ali/Documents/CIBC/claims_final.csv', header=None, names=['family_id','member_id', 'provider_id', 'provider_type', 'state', 'date', 'procedure', 'amount'])"
   ]
  },
  {
   "cell_type": "code",
   "execution_count": 7,
   "metadata": {},
   "outputs": [],
   "source": [
    "claims = claims_df.to_records(index=False)"
   ]
  },
  {
   "cell_type": "code",
   "execution_count": 10,
   "metadata": {},
   "outputs": [
    {
     "data": {
      "text/plain": [
       "rec.array([(518632, 0, 9929, 122398719, 'NY', 20060719,  282,  707.08),\n",
       "           (327546, 0, 2299, 122398719, 'NY', 20060526,  280,  381.37),\n",
       "           (342944, 5, 5367, 122398782, 'NY', 20060817, 1688,  889.29),\n",
       "           ...,\n",
       "           (389303, 3, 2780, 122398782, 'NY', 20060227, 1688, 1098.3 ),\n",
       "           ( 41597, 0, 9265, 122398719, 'NY', 20060807,  278,  594.56),\n",
       "           (545260, 0, 3522, 122398769, 'NY', 20060411, 1623, 1534.06)],\n",
       "          dtype=[('family_id', '<i8'), ('member_id', '<i8'), ('provider_id', '<i8'), ('provider_type', '<i8'), ('state', 'O'), ('date', '<i8'), ('procedure', '<i8'), ('amount', '<f8')])"
      ]
     },
     "execution_count": 10,
     "metadata": {},
     "output_type": "execute_result"
    }
   ],
   "source": [
    "data.subset_query(claims,lambda p : p['state']=='NY')"
   ]
  },
  {
   "cell_type": "code",
   "execution_count": 55,
   "metadata": {},
   "outputs": [],
   "source": [
    "def subset_query(x, match_func):\n",
    "    keep_idxs = [idx for idx, item in enumerate(x) if match_func(item)]\n",
    "    return subset_idxs(x, keep_idxs)\n",
    "\n",
    "\n",
    "def subset_idxs(x, keep_idxs):\n",
    "    if keep_idxs is None:\n",
    "        return x.copy()\n",
    "    else:\n",
    "        if len(keep_idxs) == 1:\n",
    "            keep_idxs = [keep_idxs]\n",
    "        return x[keep_idxs]\n"
   ]
  }
 ],
 "metadata": {
  "kernelspec": {
   "display_name": "Python 3",
   "language": "python",
   "name": "python3"
  },
  "language_info": {
   "codemirror_mode": {
    "name": "ipython",
    "version": 3
   },
   "file_extension": ".py",
   "mimetype": "text/x-python",
   "name": "python",
   "nbconvert_exporter": "python",
   "pygments_lexer": "ipython3",
   "version": "3.6.5"
  }
 },
 "nbformat": 4,
 "nbformat_minor": 2
}
